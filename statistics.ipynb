{
 "cells": [
  {
   "cell_type": "markdown",
   "id": "2b26be84",
   "metadata": {
    "id": "d5f2ded6"
   },
   "source": [
    "## Тест 1"
   ]
  },
  {
   "cell_type": "markdown",
   "id": "68a4c4a1",
   "metadata": {
    "id": "40ade1c1"
   },
   "source": [
    "1. В первом броске участвуют 160 несимметричных монет. Во втором броске участвуют только те монеты, на которых в первом броске выпал \"орел\". Известно, что вероятность выпадения \"орла\" для данных несимметричных монет равна 0,55. Найдите: 1) математическое ожидание числа \"орлов\", выпавших во втором броске; 2) дисперсию условного математического ожидания числа \"орлов\", выпавших во втором броске, относительно числа \"орлов\", выпавших в первом броске."
   ]
  },
  {
   "cell_type": "code",
   "execution_count": null,
   "id": "e7fd6126",
   "metadata": {
    "id": "e14b7d9a",
    "outputId": "c5142de5-9586-44d3-89f9-c8579c937301"
   },
   "outputs": [
    {
     "data": {
      "text/plain": [
       "(48.400000000000006, 11.979000000000003)"
      ]
     },
     "execution_count": 8,
     "metadata": {},
     "output_type": "execute_result"
    }
   ],
   "source": [
    "n = 160\n",
    "p = 0.55\n",
    "q = 1 - p\n",
    "\n",
    "Ex = n * p**2\n",
    "DEx = n * p**3 * q\n",
    "Ex, DEx"
   ]
  },
  {
   "cell_type": "markdown",
   "id": "38f7ced3",
   "metadata": {
    "id": "de5204a9"
   },
   "source": [
    "2. В первом броске участвуют 79 несимметричных монет. Во втором броске участвуют только те монеты, на которых в первом броске выпал \"орел\". Известно, что вероятность выпадения \"орла\" для данных несимметричных монет равна 0,6. Найдите: 1) математическое ожидание числа \"орлов\", выпавших во втором броске; 2) математическое ожидание условной дисперсии числа \"орлов\", выпавших во втором броске, относительно числа \"орлов\", выпавших в первом броске.\n"
   ]
  },
  {
   "cell_type": "code",
   "execution_count": null,
   "id": "9b4229e2",
   "metadata": {
    "id": "b8e89e88",
    "outputId": "46433aa1-6f1f-4f03-a306-9021e7e00ad9"
   },
   "outputs": [
    {
     "data": {
      "text/plain": [
       "(28.439999999999998, 11.376)"
      ]
     },
     "execution_count": 18,
     "metadata": {},
     "output_type": "execute_result"
    }
   ],
   "source": [
    "n = 79\n",
    "p = 0.6\n",
    "q = 1 - p\n",
    "\n",
    "Ex = n * p**2\n",
    "EDx = n * p**2 * q\n",
    "Ex, EDx"
   ]
  },
  {
   "cell_type": "markdown",
   "id": "9607678c",
   "metadata": {
    "id": "14c817a3"
   },
   "source": [
    "3. В первом броске участвуют 88 несимметричных монет. Во втором броске участвуют только те монеты, на которых в первом броске выпал \"орел\". Известно, что вероятность выпадения \"орла\" для данных несимметричных монет равна 0,7. Найдите: 1) математическое ожидание условной дисперсии числа \"орлов\", выпавших во втором броске, относительно числа \"орлов\", выпавших в первом броске; 2) дисперсию условного математического ожидания числа \"орлов\", выпавших во втором броске, относительно числа \"орлов\", выпавших в первом броске."
   ]
  },
  {
   "cell_type": "code",
   "execution_count": null,
   "id": "b799de0c",
   "metadata": {
    "id": "4dbd3b08",
    "outputId": "46bcad0e-fab0-493b-9042-69c15733bdfd"
   },
   "outputs": [
    {
     "data": {
      "text/plain": [
       "(12.936000000000002, 9.0552)"
      ]
     },
     "execution_count": 18,
     "metadata": {},
     "output_type": "execute_result"
    }
   ],
   "source": [
    "n = 88\n",
    "p = 0.7\n",
    "q = 1 - p\n",
    "\n",
    "EDx = n * p**2 * q\n",
    "DEx = n * p**3 * q\n",
    "EDx, DEx"
   ]
  },
  {
   "cell_type": "markdown",
   "id": "d1d092cb",
   "metadata": {
    "id": "cee9fc71"
   },
   "source": [
    "4. Cредний ущерб от одного пожара составляет 4,4 млн. руб. Предполагается, что ущерб распределен по показательному закону, а число пожаров за год по закону Пуассона. Также известно, что за 5 лет в среднем происходит 14 пожаров. Найдите: 1) математическое ожидание суммарного ущерба от всех пожаров за один год; 2) стандартное отклонение суммарного ущерба от пожаров за год."
   ]
  },
  {
   "cell_type": "code",
   "execution_count": null,
   "id": "79647013",
   "metadata": {
    "id": "9c7f3fb2",
    "outputId": "69c82275-7d50-484f-e6f6-20987303a6ab"
   },
   "outputs": [
    {
     "data": {
      "text/plain": [
       "(12.32, 10.412300418255326)"
      ]
     },
     "execution_count": 33,
     "metadata": {},
     "output_type": "execute_result"
    }
   ],
   "source": [
    "c = 4.4 # Ср. ущерб в млн.\n",
    "r = 5 # Период\n",
    "a = 14 # Кол-во за период\n",
    "\n",
    "# Xi - ущерб от 1 пожара\n",
    "# Y - число пожаров за год\n",
    "# X - суммарный ущерб за год\n",
    "\n",
    "EXi = c\n",
    "DXi = c**2\n",
    "EY = DY = a / r\n",
    "\n",
    "EX = EY * EXi\n",
    "DX = DXi * EY + EXi**2 * DY\n",
    "sig = DX**.5\n",
    "\n",
    "EX, sig"
   ]
  },
  {
   "cell_type": "markdown",
   "id": "3589b071",
   "metadata": {
    "id": "cc30e2fc"
   },
   "source": [
    "5. Максимальный ущерб от страхового случая составляет 3,3 млн. руб. Предполагается, что фактический ущерб распределен равномерно от 0 до максимального ущерба, а число страховых случаев за год - по закону Пуассона. Также известно, что за 10 лет в среднем происходит 12 страховых случаев. Найдите: 1) математическое ожидание суммарного ущерба от всех страховых случаев за один год; 2) стандартное отклонение суммарного ущерба от страховых случаев за год."
   ]
  },
  {
   "cell_type": "code",
   "execution_count": null,
   "id": "be8689ab",
   "metadata": {
    "id": "4c389dd6",
    "outputId": "7e92ef18-0c62-4d65-cdf4-3ae8f823e7ab"
   },
   "outputs": [
    {
     "data": {
      "text/plain": [
       "(1.9799999999999998, 2.08710325571113)"
      ]
     },
     "execution_count": 19,
     "metadata": {},
     "output_type": "execute_result"
    }
   ],
   "source": [
    "c = 3.3 # Макс. ущерб в млн.\n",
    "r = 10 # Период\n",
    "a = 12 # Кол-во за период\n",
    "\n",
    "# Xi - ущерб от 1 пожара\n",
    "# Y - число пожаров за год\n",
    "# X - суммарный ущерб за год\n",
    "\n",
    "EXi = (c + 0) / 2\n",
    "DXi = (c - 0)**2 / 12\n",
    "EY = DY = a / r\n",
    "\n",
    "EX = EY * EXi\n",
    "DX = DXi * EY + EXi**2 * DY\n",
    "sig = DX**.5\n",
    "\n",
    "EX, sig"
   ]
  },
  {
   "cell_type": "markdown",
   "id": "c69064d6",
   "metadata": {
    "id": "a6425691"
   },
   "source": [
    "6. Для случайной цены У известны вероятности: P(Y = 2) = 0,6 и P(Y = 15) = 0, 4. При условии, что Y = y распределение выручки Х является равномерным на отрезке\n",
    "[0, 7y]. Найдите: 1) математическое ожидание Е(ХУ); 2) ковариацию\n",
    "Cov(X, Y)."
   ]
  },
  {
   "cell_type": "code",
   "execution_count": null,
   "id": "bcbe560a",
   "metadata": {
    "id": "849d0e45",
    "outputId": "dd888473-93b6-432d-95b6-e03229901f42"
   },
   "outputs": [
    {
     "data": {
      "text/plain": [
       "(323.4, 141.95999999999998)"
      ]
     },
     "execution_count": 20,
     "metadata": {},
     "output_type": "execute_result"
    }
   ],
   "source": [
    "Y = [2, 15]\n",
    "P = [0.6, 0.4]\n",
    "l = (0, 7)\n",
    "\n",
    "X_Y1 = Y[0] * l[1]\n",
    "X_Y2 = Y[1] * l[1]\n",
    "\n",
    "EX_Y1 = X_Y1 / 2\n",
    "EX_Y2 = X_Y2 / 2\n",
    "\n",
    "EY = Y[0] * P[0] + Y[1] * P[1]\n",
    "EX = EX_Y1 * P[0] + EX_Y2 * P[1]\n",
    "EXY = Y[0] * EX_Y1 * P[0] + Y[1] * EX_Y2 * P[1]\n",
    "CovXY = EXY - EX * EY\n",
    "\n",
    "EXY, CovXY"
   ]
  },
  {
   "cell_type": "markdown",
   "id": "fe1bd667",
   "metadata": {
    "id": "36570738"
   },
   "source": [
    "7. Игральная кость и 29 монет подбрасываются до тех пор, пока в очередном броске не выпадет ровно 8 \"орлов\". Пусть S - суммарное число очков, выпавших на игральной кости при всех бросках. Найдите: 1) математическое ожидание E(S); 2) стандартное отклонение\n",
    "σ."
   ]
  },
  {
   "cell_type": "code",
   "execution_count": null,
   "id": "6962f68a",
   "metadata": {
    "id": "8ed42c0c",
    "outputId": "11bd2290-efee-402a-d711-dc299348ed92"
   },
   "outputs": [
    {
     "data": {
      "text/plain": [
       "(437.78767772291013, 436.45230777114415)"
      ]
     },
     "execution_count": 49,
     "metadata": {},
     "output_type": "execute_result"
    }
   ],
   "source": [
    "from scipy.special import comb\n",
    "\n",
    "n = 29 # Кол-во монет\n",
    "g = 8 # Кол-во нужных\n",
    "\n",
    "p = comb(n, g) / 2**n\n",
    "q = 1 - p\n",
    "\n",
    "# Y ~ Geom(p)\n",
    "EY = 1 / p \n",
    "DY = q / p**2\n",
    "\n",
    "# Xi - число очков на кубике на i броске\n",
    "\n",
    "EXi = (1 + 2 + 3 + 4 + 5 + 6) / 6\n",
    "DXi = (1**2 + 2**2 + 3**2 + 4**2 + 5**2 + 6**2) / 6 - EXi**2\n",
    "\n",
    "# S = X1 + X2 + ... + Xy\n",
    "\n",
    "ES = EXi * EY\n",
    "DS = EXi**2 * DY + DXi * EY\n",
    "sig = DS**.5\n",
    "\n",
    "ES, sig"
   ]
  },
  {
   "cell_type": "markdown",
   "id": "134ff512",
   "metadata": {
    "id": "69551218"
   },
   "source": [
    "## Тест 2"
   ]
  },
  {
   "cell_type": "code",
   "execution_count": null,
   "id": "a5f841f1",
   "metadata": {
    "id": "030f83a4"
   },
   "outputs": [],
   "source": [
    "import numpy as np\n",
    "from statistics import geometric_mean as gm\n",
    "from statistics import harmonic_mean as hm\n",
    "from scipy.stats import *\n",
    "from statsmodels.distributions.empirical_distribution import ECDF\n",
    "import statsmodels.api as sm\n",
    "from itertools import product\n",
    "def rrstr(x,n):\n",
    "    fmt = '{:.'+str(n)+'f}'\n",
    "    return fmt.format(x).replace('.',',')"
   ]
  },
  {
   "cell_type": "markdown",
   "id": "2ec76872",
   "metadata": {
    "id": "685907ec"
   },
   "source": [
    "**Эмпирические характеристики**"
   ]
  },
  {
   "cell_type": "markdown",
   "id": "0a460076",
   "metadata": {
    "id": "ddd51c22"
   },
   "source": [
    "1.  В группе учится 24 студента. Ими были получены следующие 100-балльные оценки: 56, 53, 93, 82, 19, 82, 0, 55, 84, 83, 95, 70, 71, 80, 81, 37, 87, 81, 95, 0, 52, 66, 79, 12. Найдите:\n",
    "1) A – среднюю положительную оценку в группе;\n",
    "2) M – медиану положительных оценок в группе;\n",
    "3) H – среднее гармоническое и G – среднее геометрическое оценок, которые не менее M;\n",
    "4) Q – медианную оценку в той части группы, в которой студенты набрали не менее M баллов;\n",
    "5) N – количество студентов, оценки которых оказались между H и Q (включая границы).<br/>"
   ]
  },
  {
   "cell_type": "code",
   "execution_count": null,
   "id": "a7044d5e",
   "metadata": {
    "id": "b19ba680",
    "outputId": "14eaa9b1-d49b-4f8b-b069-9f97a1b74d6e"
   },
   "outputs": [
    {
     "name": "stdout",
     "output_type": "stream",
     "text": [
      "A = 66,5\n",
      "M = 70.0\n",
      "H = 84,8 \n",
      "G = 85,2\n",
      "Q = 87.5\n",
      "N = 1\n"
     ]
    }
   ],
   "source": [
    "marks = '72, 51, 22, 56, 68, 66, 68, 81, 40, 77, 10, 60, 87, 76, 66, 79, 88, 97, 97, 97, 56, 7, 88, 88'\n",
    "\n",
    "marks = np.array(list(map(int, marks.split(', '))))\n",
    "\n",
    "# 1)\n",
    "marks_positive = marks[marks > 0] # положительные оценки в группе\n",
    "A = marks_positive.mean()\n",
    "print('A =', rrstr(A, 1))\n",
    "\n",
    "# 2)\n",
    "marks_positive.sort()\n",
    "if len(marks_positive)%2:\n",
    "    M = marks_positive[len(marks_positive)//2]\n",
    "else: \n",
    "    M = marks_positive[len(marks_positive)//2-1:len(marks_positive)//2+1].mean()\n",
    "print('M =', M)\n",
    "\n",
    "# 3)\n",
    "marks_more_M = marks[marks >= M] # часть группы, набравшая не менее M баллов\n",
    "marks_more_M.sort()\n",
    "H = hm(marks_more_M)\n",
    "G = gm(marks_more_M)\n",
    "print('H =', rrstr(H, 1), '\\nG =', rrstr(G, 1))\n",
    "\n",
    "# 4)\n",
    "if len(marks_more_M)%2 == 1:\n",
    "    Q = marks_more_M[len(marks_more_M)//2]\n",
    "else: \n",
    "    Q = marks_more_M[len(marks_more_M)//2-1:len(marks_more_M)//2+1].mean()\n",
    "print('Q =', Q)\n",
    "\n",
    "# 5)\n",
    "N = len(marks[min(Q, H) <= marks][marks[min(Q, H) <= marks] <= max(Q, H)])\n",
    "print('N =', N)"
   ]
  },
  {
   "cell_type": "markdown",
   "id": "0c49667b",
   "metadata": {
    "id": "3952e397"
   },
   "source": [
    "2.  Следующие 28 чисел – это умноженные на 10000 и округленные до ближайшего целого дневные \n",
    "логарифмические доходности акции компании АВС: 105, -190, 302, -14, 223, 227, -48, -344, -26, -57, 40, 74, 61, -39, -119, 129, -69, 252, -166, 136, -51, -245, 19, 159, -474, -46, 233, -327. Будем называть их преобразованными доходностями (ПД). \n",
    "Финансовый аналитик Глеб предполагает, что преобразованные доходности (как и исходные) приближенно распределены \n",
    "по нормальному закону. Чтобы проверить свое предположение Глеб нашел нижнюю квартиль L и верхнюю квартиль H нормального \n",
    "распределения $N(\\mu,\\sigma^2)$, для которого $\\mu$ – это среднее арифметическое ПД, а $\\sigma$ – эмпирическое \n",
    "стандартное отклонение ПД.\n",
    "Затем Глеб подсчитал количество ПД, попавших в интервал от L до H (надеясь, что в этот интервал попадет половина ПД). \n",
    "Результат этого вычисления показался ему недостаточно убедительным. Чтобы окончательно развеять сомнения относительно\n",
    "нормальности ПД, Глеб построил на одном рисунке графики функций: $\\hat F(x)$ и $F(x)$, где $\\hat F(x)$ – эмпирическая\n",
    "функция распределения ПД, а $F(x)$ – функция распределения $N(\\mu,\\sigma^2)$. \n",
    "В качестве меры совпадения двух графиков Глеб \n",
    "решил использовать расстояние $d$ между функциями $\\hat F(x)$ и $F(x)$, которое он вычислил, исходя из\n",
    "определения: $d=\\sup |\\hat F(x)-F(x)|$. \n",
    "В ответе укажите результаты вычислений Глеба: 1) среднее арифметическое ПД;\n",
    "2) эмпирическое стандартное отклонение ПД; 3) квартили L и H; 4) количество ПД, попавших в интервал от L до H; \n",
    "5) расстояние между функциями $\\hat F(x)$ и $F(x)$.<br/>"
   ]
  },
  {
   "cell_type": "code",
   "execution_count": null,
   "id": "0320e1f9",
   "metadata": {
    "id": "56611301",
    "outputId": "1bc3778d-ec95-456c-8a60-243b8410fc5b"
   },
   "outputs": [
    {
     "name": "stdout",
     "output_type": "stream",
     "text": [
      "Среднее арифметическое ПД = -0,7\n",
      "Эмпирическое стандартное отклонение ПД = 116,3\n",
      "Квартиль L = -79,2 \n",
      "квартиль Н = 77,7\n",
      "Количество ПД, попавших в интервал от L до H = 20\n",
      "Расстояние между функциями распределений = 0,106\n"
     ]
    }
   ],
   "source": [
    "PD = '-220, -6, 20, -88, -136, -109, 136, 47, 18, 51, -62, -259, -49, 210, -32, -136, 151, 59, -73, -40, 168, -32, 61, 187, -79, 96, -77, 34, -34, 162, 5, -100, -132, 35, 86, -43, -125, 114, -96, 259'\n",
    "\n",
    "PD = np.array(list(map(int, PD.split(', '))))\n",
    "\n",
    "# 1)\n",
    "PD_mean = PD.mean()\n",
    "print('Среднее арифметическое ПД =', rrstr(PD_mean, 1))\n",
    "\n",
    "# 2)\n",
    "PD_std = np.std(PD)\n",
    "print('Эмпирическое стандартное отклонение ПД =', rrstr(PD_std, 1))\n",
    "\n",
    "# 3)\n",
    "N = norm(PD_mean, PD_std)\n",
    "L = N.ppf(0.25)\n",
    "H = N.ppf(0.75)\n",
    "print('Квартиль L =', rrstr(L, 1), '\\nквартиль Н =', rrstr(H, 1))\n",
    "\n",
    "# 4)\n",
    "count_between_L_and_H = len(PD[L < PD][PD[L < PD] < H])\n",
    "print('Количество ПД, попавших в интервал от L до H =', count_between_L_and_H)\n",
    "\n",
    "\n",
    "# 5)\n",
    "ecdf_PD = sm.distributions.empirical_distribution.ECDF(PD)\n",
    "x = np.linspace(min(PD), max(PD), 1000000)\n",
    "y_PD = ecdf_PD(x)\n",
    "y_N = N.cdf(x)\n",
    "d = max(abs(y_PD - y_N))\n",
    "print('Расстояние между функциями распределений =', rrstr(d, 3))"
   ]
  },
  {
   "cell_type": "markdown",
   "id": "fb5342b3",
   "metadata": {
    "id": "a182bae9"
   },
   "source": [
    "3.  В группе $\\Omega$ учатся студенты: $\\omega_1,...,\\omega_{26}$. \n",
    "Пусть $X$ и $Y$ – 100-балльные экзаменационные оценки по математическому анализу и теории вероятностей.\n",
    "Оценки студента $\\omega_i$ обозначаются: $x_i=X(\\omega_i)$ и $y_i=Y(\\omega_i)$, $i=1,...,26$. \n",
    "Все оценки известны: $x_{1}=83,y_{1}=88$, $x_{2}=93,y_{2}=93$, $x_{3}=47,y_{3}=49$, $x_{4}=67,y_{4}=59$, $x_{5}=88,y_{5}=97$, $x_{6}=63,y_{6}=57$, $x_{7}=36,y_{7}=32$, $x_{8}=89,y_{8}=89$, $x_{9}=80,y_{9}=70$, $x_{10}=85,y_{10}=78$, $x_{11}=100,y_{11}=93$, $x_{12}=49,y_{12}=41$, $x_{13}=65,y_{13}=58$, $x_{14}=65,y_{14}=54$, $x_{15}=57,y_{15}=56$, $x_{16}=88,y_{16}=98$, $x_{17}=89,y_{17}=86$, $x_{18}=50,y_{18}=48$, $x_{19}=86,y_{19}=78$, $x_{20}=43,y_{20}=48$, $x_{21}=53,y_{21}=50$, $x_{22}=45,y_{22}=37$, $x_{23}=78,y_{23}=88$, $x_{24}=62,y_{24}=73$, $x_{25}=69,y_{25}=78$, $x_{26}=79,y_{26}=70$. Требуется найти следующие условные эмпирические характеристики:\n",
    "1) ковариацию $X$ и $Y$ при условии, что одновременно $X\\ge 50$ и $Y\\ge 50$;\n",
    "2) коэффициент корреляции $X$ и $Y$ при том же условии.<br/>"
   ]
  },
  {
   "cell_type": "code",
   "execution_count": null,
   "id": "f73048e2",
   "metadata": {
    "id": "ccfb9ca9",
    "outputId": "edfc8ad2-0131-4167-ed50-c4242e153add"
   },
   "outputs": [
    {
     "name": "stdout",
     "output_type": "stream",
     "text": [
      "Ковариация = 158,1\n",
      "Коэффициент корреляции = 0,904\n"
     ]
    }
   ],
   "source": [
    "xy = 'x1=64,y1=61, x2=77,y2=66, x3=87,y3=91, x4=65,y4=72, x5=31,y5=31, x6=83,y6=84, x7=76,y7=77, x8=60,y8=52, x9=37,y9=37, x10=32,y10=43, x11=87,y11=90, x12=54,y12=47, x13=93,y13=93, x14=47,y14=55, x15=76,y15=74, x16=50,y16=55, x17=52,y17=52, x18=82,y18=79, x19=85,y19=80, x20=86,y20=95, x21=68,y21=78, x22=36,y22=32, x23=64,y23=53, x24=92,y24=86, x25=61,y25=53, x26=74,y26=74, x27=65,y27=70, x28=48,y28=47'\n",
    "condition = 50\n",
    "\n",
    "sample = np.array(list(map(lambda x: (int(x[0].split('=')[1]), int(x[1].split('=')[1])), list(map(lambda x: x.split(','), xy.split('x')))[1:])))\n",
    "mask = sample >= condition\n",
    "x, y = sample[mask[:, 0] & mask[:, 1]].T\n",
    "\n",
    "# 1)\n",
    "Cov = np.cov(x,y,ddof=0)[0][1]\n",
    "print('Ковариация =', rrstr(Cov, 1))\n",
    "\n",
    "# 2) \n",
    "Corr = np.corrcoef(x,y)[0][1]\n",
    "print('Коэффициент корреляции =', rrstr(Corr, 3))"
   ]
  },
  {
   "cell_type": "markdown",
   "id": "8ea634b6",
   "metadata": {
    "id": "aa89e594"
   },
   "source": [
    "4. Поток $\\Omega$ состоит из $k$ групп: $\\Omega_1,...,\\Omega_k$, $k=3$. На потоке учатся \n",
    "$n=n_1+...+n_k$ студентов, где $n_i$ – число студентов в группе $\\Omega_i$, $i=1,...,k$. Пусть $X(\\omega)$ – 100-балльная\n",
    "оценка студента $\\omega \\in \\Omega$. Далее используются следующие обозначения: $\\overline x_i$ – среднее значение, \n",
    "$\\sigma_i$  – (эмпирическое) стандартное отклонение признака $X$ на группе $\\Omega_i$.\n",
    "Дано: $n_{1}=24$, $n_{2}=30$, $n_{3}=21$, $\\overline x_{1}=76$, $\\overline x_{2}=79$, $\\overline x_{3}=75$, $\\sigma_{1}=7$, $\\sigma_{2}=5$, $\\sigma_{3}=3$. Требуется найти:\n",
    "1) среднее значение $X$ на потоке $\\Omega$;\n",
    "2) (эмпирическое) стандартное отклонение $X$ на потоке $\\Omega$.<br/>"
   ]
  },
  {
   "cell_type": "code",
   "execution_count": null,
   "id": "224ad201",
   "metadata": {
    "id": "1d4096fd",
    "outputId": "594eafdf-d166-4dad-f377-17413986c41b"
   },
   "outputs": [
    {
     "name": "stdout",
     "output_type": "stream",
     "text": [
      "Среднее значение = 75,6\n",
      "Стандартное отклонение = 7,598\n"
     ]
    }
   ],
   "source": [
    "sample_n = [27, 26, 25, 21, 22]\n",
    "sample_x = np.array([72, 77, 80, 71, 78])\n",
    "sample_sigma = np.array([3, 6, 7, 8, 9])\n",
    "\n",
    "n = sum(sample_n)\n",
    "p = np.array([ni/n for ni in sample_n])\n",
    "\n",
    "# 1)\n",
    "x_mean = sum(sample_x*p)\n",
    "print('Среднее значение =', rrstr(x_mean, 1))\n",
    "\n",
    "# 2)\n",
    "Var_E_X = sum(sample_x**2*p)-x_mean**2\n",
    "E_Var_X = sum(sample_sigma**2*p)\n",
    "sigma = np.sqrt(Var_E_X + E_Var_X)\n",
    "print('Стандартное отклонение =', rrstr(sigma, 3))"
   ]
  },
  {
   "cell_type": "markdown",
   "id": "d226fc9a",
   "metadata": {
    "id": "2cd36c20"
   },
   "source": [
    "**Выборки из конечной совокупности**"
   ]
  },
  {
   "cell_type": "markdown",
   "id": "d5af7193",
   "metadata": {
    "id": "7eaa427f"
   },
   "source": [
    "1. В группе $\\Omega$ учатся $27$ студентов, $\\Omega=\\{1,2,...,27\\}$. Пусть $X(i)$ – 100-балльная\n",
    "оценка студента $i \\in \\Omega$. Из группы $\\Omega$ случайным образом $6$ раз выбирается студент $\\omega \\in \\Omega$. \n",
    "Повторный выбор допускается. Пусть $\\omega_j$ – студент, полученный после выбора $j=1,...,6$, \n",
    "$X(\\omega_j)$ – его оценка. Среднюю оценку на случайной выборке обозначим $\\overline X=\\frac{1}{6}\\sum{X(\\omega_j)}$.\n",
    "Оценки в группе даны: 72, 67, 95, 63, 70, 71, 97, 71, 11, 0, 33, 100, 62, 91, 44, 100, 93, 52, 71, 23, 56, 81, 84, 73, 15, 11, 23. Требуется найти:\n",
    "1) дисперсию $\\text{V}\\!\\text{ar}(\\overline X)$;\n",
    "2) центральный момент $\\mu_3(\\overline X)$.<br/>"
   ]
  },
  {
   "cell_type": "code",
   "execution_count": null,
   "id": "5294d0be",
   "metadata": {
    "id": "f4462660",
    "outputId": "74a3ff16-b2a6-472a-fa95-a0932c88bf46"
   },
   "outputs": [
    {
     "name": "stdout",
     "output_type": "stream",
     "text": [
      "Дисперсия = 189,615\n",
      "Центральный момент = -740,557\n"
     ]
    }
   ],
   "source": [
    "N, n = 29, 5\n",
    "marks = '18, 4, 35, 88, 60, 57, 76, 26, 88, 76, 79, 100, 94, 75, 2, 92, 72, 60, 71, 67, 98, 39, 22, 78, 100, 79, 0, 78, 26'\n",
    "\n",
    "marks = np.array(list(map(int, marks.split(', '))))\n",
    "\n",
    "# 1)\n",
    "var = np.var(marks)/n\n",
    "print('Дисперсия =', rrstr(var, 3))\n",
    "\n",
    "# 2)\n",
    "m3 = moment(marks, moment=3)/n**2\n",
    "print('Центральный момент =', rrstr(m3, 3))"
   ]
  },
  {
   "cell_type": "markdown",
   "id": "795336b6",
   "metadata": {
    "id": "3f2808d4"
   },
   "source": [
    "2. В группе $\\Omega$ учатся $27$ студентов, $\\Omega=\\{1,2,...,27\\}$. Пусть $X(i)$ – 100-балльная\n",
    "оценка студента $i \\in \\Omega$. Из группы $\\Omega$ случайным образом $6$ раз выбирается студент $\\omega \\in \\Omega$. \n",
    "Повторный выбор допускается. Пусть $\\omega_j$ – студент, полученный после выбора $j=1,...,6$, \n",
    "$X(\\omega_j)$ – его оценка. Среднюю оценку на случайной выборке обозначим $\\overline X=\\frac{1}{6}\\sum{X(\\omega_j)}$.\n",
    "Оценки в группе даны: 72, 67, 95, 63, 70, 71, 97, 71, 11, 0, 33, 100, 62, 91, 44, 100, 93, 52, 71, 23, 56, 81, 84, 73, 15, 11, 23. Требуется найти:\n",
    "1) математическое ожидание $\\text{E}(\\overline X)$;\n",
    "2) дисперсию $\\text{V}\\!\\text{ar}(\\overline X)$."
   ]
  },
  {
   "cell_type": "code",
   "execution_count": null,
   "id": "34c68f53",
   "metadata": {
    "id": "1c08b7a1",
    "outputId": "84a14640-7d20-40f2-8aac-27eb32ab22c1"
   },
   "outputs": [
    {
     "name": "stdout",
     "output_type": "stream",
     "text": [
      "Математическое ожидание = 64,654\n",
      "Дисперсия = 108,205\n"
     ]
    }
   ],
   "source": [
    "N, n = 26, 6\n",
    "marks = '100, 89, 71, 40, 75, 78, 89, 23, 0, 8, 63, 6, 77, 32, 70, 100, 82, 78, 100, 63, 64, 67, 70, 73, 70, 93'\n",
    "\n",
    "marks = np.array(list(map(int, marks.split(', '))))\n",
    "\n",
    "# 1)\n",
    "E = np.mean(marks)\n",
    "print('Математическое ожидание =', rrstr(E, 3))\n",
    "\n",
    "# 2)\n",
    "var = np.var(marks)/n * (N-n)/(N-1)\n",
    "print('Дисперсия =', rrstr(var, 3))"
   ]
  },
  {
   "cell_type": "markdown",
   "id": "680382f0",
   "metadata": {
    "id": "62bebf5f"
   },
   "source": [
    "3. Распределение баллов на экзамене до перепроверки задано таблицей \n",
    "$$\\begin{array}{|l|c|c|c|} \n",
    "\\hline\n",
    "Оценка\\ работы & 2 & 3 & 4 & 5  \\\\ \n",
    "\\hline\n",
    "Число\\ работ & 22 & 38 & 45 & 165 \\\\  \n",
    "\\hline\n",
    "\\end{array}.$$\n",
    "Работы будут перепроверять\n",
    "9 преподавателей, которые разделили все работы между собой поровну случайным образом. \n",
    "Пусть $\\overline X$  –  средний балл (до перепроверки) работ, попавших к одному из преподавателей. \n",
    "Требуется найти:\n",
    "1) математическое ожидание $\\text{E}(\\overline X)$;\n",
    "2) стандартное отклонение $\\sigma(\\overline X)$.<br/>"
   ]
  },
  {
   "cell_type": "code",
   "execution_count": null,
   "id": "17620291",
   "metadata": {
    "id": "8ad42edd",
    "outputId": "bfd5a0b3-2fae-4719-f940-957416fede52"
   },
   "outputs": [
    {
     "name": "stdout",
     "output_type": "stream",
     "text": [
      "Математическое ожидание = 3,33\n",
      "Стандартное отклонение = 0,183\n"
     ]
    }
   ],
   "source": [
    "marks = [2, 3, 4, 5]\n",
    "count_works = [45, 8, 66, 11]\n",
    "count_teachers = 5\n",
    "\n",
    "N = sum(count_works)\n",
    "n = N//count_teachers\n",
    "P = [works/N for works in count_works]\n",
    "\n",
    "# 1)\n",
    "E = 2*P[0] + 3*P[1] + 4*P[2] + 5*P[3]\n",
    "print('Математическое ожидание =', rrstr(E, 2))\n",
    "\n",
    "# 2)\n",
    "sigma2 = 4*P[0] + 9*P[1] + 16*P[2] + 25*P[3] - E**2\n",
    "sigma = np.sqrt(sigma2/n * (N - n)/(N - 1))\n",
    "print('Стандартное отклонение =', rrstr(sigma, 3))"
   ]
  },
  {
   "cell_type": "markdown",
   "id": "998ae683",
   "metadata": {
    "id": "83f3a337"
   },
   "source": [
    "4. Две игральные кости, красная и синяя, подбрасываются до тех пор, пока не выпадет 19 \n",
    "различных (с учетом цвета) комбинаций очков. Пусть $R_i$ – число очков на красной кости, а \n",
    "$B_i$ – число очков на синей кости в комбинации с номером $i$.\n",
    "Случайные величины $X_i$ задаются соотношениями: $X_i=18R_i-6B_i,\\; i=1,...,19$.\n",
    "Среднее арифметическое этих величин обозначим $\\overline X=\\frac{1}{19}\\sum{X_i}$. \n",
    "Требуется найти:\n",
    "1) математическое ожидание $\\text{E}(\\overline X)$;\n",
    "2) стандартное отклонение $\\sigma(\\overline X)$.<br/>"
   ]
  },
  {
   "cell_type": "code",
   "execution_count": null,
   "id": "e5a32114",
   "metadata": {
    "id": "2d7ed5f7",
    "outputId": "ee9f9189-9635-49de-deab-fbfad27d958d"
   },
   "outputs": [
    {
     "name": "stdout",
     "output_type": "stream",
     "text": [
      "Математическое ожидание = 52.5\n",
      "Стандартное отклонение = 11,409\n"
     ]
    }
   ],
   "source": [
    "N, n = 36, 7\n",
    "a, b = 19, -4\n",
    "# 1)\n",
    "E_Ri = E_Bi = np.arange(1, 7).mean()\n",
    "E = a*E_Ri + b*E_Bi\n",
    "print('Математическое ожидание =', E)\n",
    "\n",
    "# 2)\n",
    "sample = []\n",
    "for i in np.arange(1, 7):\n",
    "    for j in np.arange(1, 7):\n",
    "        sample.append(a*i - abs(b)*j)\n",
    "sample = np.array(sample)\n",
    "sigma = np.sqrt(sample.var()/n * (N - n)/(N - 1))\n",
    "print('Стандартное отклонение =', rrstr(sigma, 3))"
   ]
  },
  {
   "cell_type": "markdown",
   "id": "29b0fe7d",
   "metadata": {
    "id": "e4ea0baa"
   },
   "source": [
    "5. Имеется 11 пронумерованных монет. Монеты подбрасываются до тех пор, пока не выпадет 257 различных (с учетом номера монеты) комбинаций орел-решка. Пусть $X_i$ – число орлов в комбинации с номером $i$; а $(\\overline X)=\\overline X=\\frac{1}{257}\\sum{X_i}$ – среднее число орлов в полученных таким образом комбинациях. \n",
    "Требуется найти: \n",
    "1) математическое ожидание $\\text{E}(\\overline X)$;\n",
    "2) дисперсию $\\text{V}\\!\\text{ar}(\\overline X)$."
   ]
  },
  {
   "cell_type": "code",
   "execution_count": null,
   "id": "9fb62002",
   "metadata": {
    "id": "44cb5a04",
    "outputId": "49740c7c-1f24-44ca-9038-b5b814486df0"
   },
   "outputs": [
    {
     "name": "stdout",
     "output_type": "stream",
     "text": [
      "Математическое ожидание = 5.0\n",
      "Стандартное отклонение = 0,004\n"
     ]
    }
   ],
   "source": [
    "coin_count = 10\n",
    "N, n = 2**coin_count, 389\n",
    "\n",
    "P = 0.5\n",
    "\n",
    "# 1)\n",
    "# 0 - орёл, 1 - решка\n",
    "E = P*coin_count\n",
    "print('Математическое ожидание =', E)\n",
    "\n",
    "# 2)\n",
    "sample = []\n",
    "for i in range(0, N):\n",
    "    num = format(i, 'b')\n",
    "    l = len(num)\n",
    "    if l != 11:\n",
    "        sample.append(num.count('0') + 11 - l)\n",
    "    else:\n",
    "        sample.append(num.count('0'))\n",
    "sample = np.array(sample)\n",
    "var = sample.var()/n * (N - n)/(N - 1)\n",
    "print('Стандартное отклонение =', rrstr(var, 3))"
   ]
  },
  {
   "cell_type": "markdown",
   "id": "5ecbeff7",
   "metadata": {
    "id": "d89810ae"
   },
   "source": [
    "6. Эмпирическое распределение признаков $X$ и $Y$ на генеральной совокупности $\\Omega=\\{1,2,...,100\\}$\n",
    "задано таблицей частот\n",
    "$$\\begin{array}{|c|c|c|c|} \n",
    "\\hline\n",
    " \\:   & Y=2 & Y=4 & Y=5  \\\\  \n",
    "\\hline\n",
    "X=100 & 16 & 12 & 10  \\\\ \n",
    "\\hline\n",
    "X=400 & 10 & 12 & 40 \\\\  \n",
    "\\hline\n",
    "\\end{array}.$$\n",
    "Из $\\Omega$ случайным образом без возвращения извлекаются 7 элементов.\n",
    "Пусть $\\overline X$ и $\\overline Y$ – средние значения признаков на выбранных элементах.\n",
    "Требуется найти:\n",
    "1) математическое ожидание $\\text{E}(\\overline X)$;\n",
    "2) дисперсию $\\text{V}\\!\\text{ar}(\\overline Y)$;\n",
    "3) коэффициент корреляции $\\rho(\\overline X,\\overline Y)$.<br/>"
   ]
  },
  {
   "cell_type": "code",
   "execution_count": null,
   "id": "81b5ab8d",
   "metadata": {
    "id": "76ef655d",
    "outputId": "8e4a25dd-b020-44a8-cc45-e7c4dc17c73e"
   },
   "outputs": [
    {
     "name": "stdout",
     "output_type": "stream",
     "text": [
      "Математическое ожидание = 341,000\n",
      "Дисперсия = 0,276\n",
      "Коэффициент корреляции = -0,168\n"
     ]
    }
   ],
   "source": [
    "N, n = 100, 8\n",
    "Y = np.array([2, 4, 6])\n",
    "X = np.array([200, 500])\n",
    "f_r, s_r = [14, 27, 12], [25, 11, 11]\n",
    "\n",
    "f_c, s_c, t_c = [f_r[0], s_r[0]], [f_r[1], s_r[1]], [f_r[2], s_r[2]]\n",
    "XY = np.array(list(map(lambda x: np.multiply(*x), list(product(X, Y)))))\n",
    "X_P = np.array([sum(f_r)/N, sum(s_r)/N])\n",
    "Y_P = np.array([sum(f_c)/N, sum(s_c)/N, sum(t_c)/N])\n",
    "XY_P = np.array([f_r[0]/100, f_r[1]/100, f_r[2]/100, s_r[0]/100, s_r[1]/100, s_r[2]/100])\n",
    "\n",
    "# 1)\n",
    "X_mean = sum(X * X_P)\n",
    "print('Математическое ожидание =', rrstr(X_mean, 3))\n",
    "\n",
    "# 2)\n",
    "Y_mean = sum(Y * Y_P)\n",
    "Y_var = (sum(Y_P * Y**2) - Y_mean**2)/n * (N - n)/(N - 1)\n",
    "print('Дисперсия =', rrstr(Y_var, 3))\n",
    "\n",
    "# 3)\n",
    "Cov = sum(XY * XY_P) - X_mean * Y_mean\n",
    "sigma_Y = np.sqrt(Y_var)\n",
    "X_var = (sum(X_P * X**2) - X_mean**2)/n * (N - n)/(N - 1)\n",
    "sigma_X = np.sqrt(X_var)\n",
    "Corr = (Cov / n * (N-n) / (N-1))/ (sigma_X * sigma_Y)\n",
    "print('Коэффициент корреляции =', rrstr(Corr, 3))"
   ]
  },
  {
   "cell_type": "markdown",
   "id": "f201ed71",
   "metadata": {
    "id": "14b22785"
   },
   "source": [
    "7. Эмпирическое распределение признаков $X$ и $Y$ на генеральной совокупности $\\Omega=\\{1,2,...,100\\}$\n",
    "задано таблицей частот\n",
    "$$\\begin{array}{|c|c|c|c|} \n",
    "\\hline\n",
    " \\:   & Y=2 & Y=4 & Y=5  \\\\  \n",
    "\\hline\n",
    "X=100 & 16 & 12 & 10  \\\\ \n",
    "\\hline\n",
    "X=400 & 10 & 12 & 40 \\\\  \n",
    "\\hline\n",
    "\\end{array}.$$\n",
    "Из $\\Omega$ случайным образом без возвращения извлекаются 7 элементов.\n",
    "Пусть $\\overline X$ и $\\overline Y$ – средние значения признаков на выбранных элементах.\n",
    "Требуется найти:\n",
    "1) математическое ожидание $\\text{E}(\\overline Y)$;\n",
    "2) стандартное отклонение $\\sigma(\\overline X)$;\n",
    "3) коэффициент ковариации $Cov(\\overline X,\\overline Y)$."
   ]
  },
  {
   "cell_type": "code",
   "execution_count": null,
   "id": "0e4d83eb",
   "metadata": {
    "id": "84b393f3",
    "outputId": "28cae5b1-f014-4143-c1c4-c3006e2a15a5"
   },
   "outputs": [
    {
     "name": "stdout",
     "output_type": "stream",
     "text": [
      "Математическое ожидание = 2,970\n",
      "Cтандартное отклонение = 89,050\n",
      "Ковариация = -0,760\n"
     ]
    }
   ],
   "source": [
    "N, n = 100, 5\n",
    "Y = np.array([2, 3, 4])\n",
    "X = np.array([200, 500])\n",
    "f_r, s_r = [12, 20, 12], [18, 23, 15]\n",
    "\n",
    "f_c, s_c, t_c = [f_r[0], s_r[0]], [f_r[1], s_r[1]], [f_r[2], s_r[2]]\n",
    "XY = np.array(list(map(lambda x: np.multiply(*x), list(product(X, Y)))))\n",
    "X_P = np.array([sum(f_r)/N, sum(s_r)/N])\n",
    "Y_P = np.array([sum(f_c)/N, sum(s_c)/N, sum(t_c)/N])\n",
    "XY_P = np.array([f_r[0]/100, f_r[1]/100, f_r[2]/100, s_r[0]/100, s_r[1]/100, s_r[2]/100])\n",
    "\n",
    "# 1)\n",
    "Y_mean = sum(Y * Y_P)\n",
    "print('Математическое ожидание =', rrstr(Y_mean, 3))\n",
    "\n",
    "# 2)\n",
    "X_var = (sum(X_P * X**2) - X_mean**2)/n * (N - n)/(N - 1)\n",
    "sigma_X = np.sqrt(X_var)\n",
    "print('Cтандартное отклонение =', rrstr(sigma_X, 3))\n",
    "\n",
    "# 3)\n",
    "X_mean = sum(X * X_P)\n",
    "Cov = (sum(XY * XY_P) - X_mean * Y_mean) / n * (N-n) / (N-1)\n",
    "print('Ковариация =', rrstr(Cov, 3))"
   ]
  },
  {
   "cell_type": "markdown",
   "id": "b5712da9",
   "metadata": {
    "id": "9976b5b7"
   },
   "source": [
    "## Тест 3"
   ]
  },
  {
   "cell_type": "code",
   "execution_count": null,
   "id": "423c9101",
   "metadata": {
    "id": "f9a10002"
   },
   "outputs": [],
   "source": [
    "import numpy as np\n",
    "import scipy.integrate as integrate\n",
    "from scipy.optimize import minimize\n",
    "from PIL import ImageGrab\n",
    "from IPython.display import display, Image, Latex\n",
    "from scipy.stats import *\n",
    "from math import e\n",
    "import sympy as sp\n",
    "\n",
    "def ins(ratio=1.0):\n",
    "    im_data = ImageGrab.grabclipboard()\n",
    "    new_size = tuple([int(i*ratio) for i in im_data.size])\n",
    "    thumb = im_data.resize(new_size)\n",
    "    fn = \"temp.PNG\"\n",
    "    thumb.save(fn)\n",
    "    img = Image(filename=fn)\n",
    "    display(img)\n",
    "    \n",
    "def rrstr(x,n):\n",
    "    fmt = '{:.'+str(n)+'f}'\n",
    "    return fmt.format(x).replace('.',',')"
   ]
  },
  {
   "cell_type": "markdown",
   "id": "208f7f4c",
   "metadata": {
    "id": "54600ba3"
   },
   "source": [
    "**Метод максимального правдоподобия**"
   ]
  },
  {
   "cell_type": "markdown",
   "id": "8bfc78ea",
   "metadata": {
    "id": "1037ac4a"
   },
   "source": [
    "![image.png](attachment:image.png)"
   ]
  },
  {
   "cell_type": "code",
   "execution_count": null,
   "id": "bbfd2805",
   "metadata": {
    "id": "5ac8f63c",
    "outputId": "1295587c-3373-445f-b6b6-8d782ff6872e"
   },
   "outputs": [
    {
     "data": {
      "text/plain": [
       "101"
      ]
     },
     "execution_count": 22,
     "metadata": {},
     "output_type": "execute_result"
    }
   ],
   "source": [
    "sample = np.array([0, 0, 0, 0, 0, 0, 0, 0, 0, 0, 0, 0, 0, 0, 0, 0, 0, 0, 0, 0, 0, 0, 0, 0, 0, 0, 0, 0, 0, 0, 0, 0, 0, 0, 0, 0, 0, 0, 0, 0, 0, 0, 0, 0, 0, 0, 0, 0, 0, 0, 0, 0, 0, 0, 0, 0, 0, 0, 0, 1, 0, 2, 0, 0, 1, 1, 3, 4, 4, 5, 4, 6, 6, 11, 9, 19, 23, 25, 33, 36, 36, 46, 46, 49, 58, 90, 76, 66, 69, 75, 68, 44, 39, 21, 16, 5, 2, 1, 0, 0, 0])\n",
    "percents = []\n",
    "for i in range(len(sample)):\n",
    "    if sample[i] != 0:\n",
    "        l = [i]*sample[i]\n",
    "        percents.extend(l)\n",
    "percents = np.array(percents)/100\n",
    "len(sample)"
   ]
  },
  {
   "cell_type": "code",
   "execution_count": null,
   "id": "e2e5bdb9",
   "metadata": {
    "id": "0d77ae80",
    "outputId": "1776cffb-de32-470f-c54a-d6c38a9ced32"
   },
   "outputs": [
    {
     "name": "stdout",
     "output_type": "stream",
     "text": [
      "Значение A = 17\n",
      "\n",
      "Значение B = 10\n",
      "\n",
      "Математическое ожидание = 0,844\n",
      "\n",
      "Квантиль = 0,799\n"
     ]
    }
   ],
   "source": [
    "q = 0.2\n",
    "A_B_values = np.arange(1, 21)\n",
    "a, b, x = sp.symbols('a, b, x')\n",
    "\n",
    "results = []\n",
    "log_f_x = sp.log(a*b*x**(a-1)*(1 - x**a)**(b-1))\n",
    "log_lf_x = sum(log_f_x.subs(x, i) for i in percents)\n",
    "for A in A_B_values:\n",
    "    for B in A_B_values:\n",
    "        log_lf_x_diff = log_lf_x.diff(x)\n",
    "        x_max = sp.solve(log_lf_x_diff, x)\n",
    "        results.append([A, B, log_lf_x.subs([(a, A), (b, B), (x, x_max)])])\n",
    "result = sorted(results, key=lambda x: x[2])[-1]\n",
    "A, B = result[0], result[1]\n",
    "print(f'Значение A = {A}\\n\\nЗначение B = {B}', end = '\\n\\n')\n",
    "\n",
    "def f_x(x):\n",
    "    return A*B*x**(A-1)*(1 - x**A)**(B-1)\n",
    "\n",
    "def xfx(x):\n",
    "    return x*f_x(x)\n",
    "\n",
    "result = integrate.quad(xfx, 0, 1)[0]\n",
    "print(f'Математическое ожидание = {rrstr(result, 3)}', end = '\\n\\n')\n",
    "\n",
    "def F(x):\n",
    "    return integrate.quad(f_x, 0, x)[0]\n",
    "\n",
    "x_val = np.linspace(0, 1, 100000)\n",
    "delta = 0.0003\n",
    "for x in x_val:\n",
    "    if q-delta < F(x) < q+delta:\n",
    "        print(f'Квантиль = {rrstr(x, 3)}')\n",
    "        break"
   ]
  },
  {
   "cell_type": "markdown",
   "id": "49f3ed49",
   "metadata": {
    "id": "9245fc65"
   },
   "source": [
    "**Проверка гипотез о значении среднего**"
   ]
  },
  {
   "cell_type": "markdown",
   "id": "696b9720",
   "metadata": {
    "id": "246efbcf"
   },
   "source": [
    "1. ![image.png](attachment:image.png)"
   ]
  },
  {
   "cell_type": "code",
   "execution_count": null,
   "id": "3d37686e",
   "metadata": {
    "id": "aa1731d5",
    "outputId": "6c373184-dfd3-4947-bb9c-5faefaca9a21"
   },
   "outputs": [
    {
     "name": "stdout",
     "output_type": "stream",
     "text": [
      "[ 0.189 -0.66   0.218 -0.828 -0.65   0.814  2.846  6.009  1.634 -3.487\n",
      "  1.606 -1.147  0.615  2.491 -1.091  2.202 -1.503  3.921  2.095 -2.205\n",
      "  3.671 -1.27   6.15   5.291 -2.73 ]\n",
      "25\n"
     ]
    }
   ],
   "source": [
    "x_str = '0,189; -0,66; 0,218; -0,828; -0,65; 0,814; 2,846; 6,009; 1,634; -3,487; 1,606; -1,147; 0,615; 2,491; -1,091; 2,202; -1,503; 3,921; 2,095; -2,205; 3,671; -1,27; 6,15; 5,291; -2,73'\n",
    "x = np.array(list(map(lambda x: float(x), x_str.replace(',', '.').split('; '))))\n",
    "print(x, len(x), sep='\\n')"
   ]
  },
  {
   "cell_type": "code",
   "execution_count": null,
   "id": "f220866b",
   "metadata": {
    "id": "b31fb2eb",
    "outputId": "a5e900e3-c21d-46bf-d964-7822f232bb8c"
   },
   "outputs": [
    {
     "name": "stdout",
     "output_type": "stream",
     "text": [
      "Cтатистика критерия Z(x) = -0,468\n",
      "\n",
      "Граница А критического множества = 1,751\n",
      "\n",
      "Критическая область: [-0.7506860712521699   1.75068607125217]\n",
      "\n",
      "Гипотеза не отвергается\n",
      "\n",
      "P-значение критерия = 0,640\n",
      "\n",
      "Мощность критерия W = 0,099\n"
     ]
    }
   ],
   "source": [
    "sigma = 2.7**2\n",
    "alpha = 0.08\n",
    "m0 = 1.22\n",
    "m1 = 1.03\n",
    "\n",
    "Z = norm()\n",
    "z = (np.mean(x)-m0)/(np.sqrt(sigma)/np.sqrt(len(x)))\n",
    "print(f'Cтатистика критерия Z(x) = {rrstr(z, 3)}', end = '\\n\\n')\n",
    "\n",
    "a = Z.isf(alpha/2)\n",
    "print(f'Граница А критического множества = {rrstr(a, 3)}', end = '\\n\\n')\n",
    "print(f'Критическая область: [{1 - a}   {a}]', end = '\\n\\n')\n",
    "if z < -a or z > a:\n",
    "    print('Гипотеза отвергается', end = '\\n\\n')\n",
    "else:\n",
    "    print('Гипотеза не отвергается', end = '\\n\\n')\n",
    "    \n",
    "\n",
    "p = 2*min(Z.sf(z),Z.cdf(z))\n",
    "print(f'P-значение критерия = {rrstr(p, 3)}', end = '\\n\\n')\n",
    "\n",
    "w = 1 - (Z.cdf(Z.isf(alpha/2) - (np.sqrt(len(x))/np.sqrt(sigma))*(m1 - m0)) + Z.cdf(Z.isf(alpha/2) + (np.sqrt(len(x))/np.sqrt(sigma))*(m1 - m0))-1)\n",
    "print(f'Мощность критерия W = {rrstr(w, 3)}')"
   ]
  },
  {
   "cell_type": "markdown",
   "id": "013fec94",
   "metadata": {
    "id": "d3c93cae"
   },
   "source": [
    "2. ![image-2.png](attachment:image-2.png)"
   ]
  },
  {
   "cell_type": "code",
   "execution_count": null,
   "id": "c22a6fd9",
   "metadata": {
    "id": "df0610f3",
    "outputId": "c96eb029-fcad-4fc2-8967-d6bb7285683d"
   },
   "outputs": [
    {
     "name": "stdout",
     "output_type": "stream",
     "text": [
      "[ 1.825  0.35   1.837  2.528 -3.712  6.468  8.392  0.079  5.281 -2.019\n",
      "  4.69  -0.607  1.925  2.688  1.573  4.66   1.273 -0.505  1.36   0.403]\n",
      "20\n"
     ]
    }
   ],
   "source": [
    "x_str = '1,825; 0,35; 1,837; 2,528; -3,712; 6,468; 8,392; 0,079; 5,281; -2,019; 4,69; -0,607; 1,925; 2,688; 1,573; 4,66; 1,273; -0,505; 1,36; 0,403'\n",
    "x = np.array(list(map(lambda x: float(x), x_str.replace(',', '.').split('; '))))\n",
    "print(x, len(x), sep='\\n')"
   ]
  },
  {
   "cell_type": "code",
   "execution_count": null,
   "id": "524b3758",
   "metadata": {
    "id": "2307a98a",
    "outputId": "6d4756a2-8af2-48ae-f581-277414c82234"
   },
   "outputs": [
    {
     "name": "stdout",
     "output_type": "stream",
     "text": [
      "Cтатистика критерия T(x) = 0,595\n",
      "\n",
      "Граница А критического множества = 2,093\n",
      "\n",
      "Критическая область: [-1.0930240544082634   2.0930240544082634]\n",
      "\n",
      "Гипотеза не отвергается\n",
      "\n",
      "P-значение критерия = 0,559\n",
      "\n",
      "Мощность критерия W = 0,059\n"
     ]
    }
   ],
   "source": [
    "alpha = 0.05\n",
    "m0 = 1.54\n",
    "m = 1.35\n",
    "\n",
    "T = t(df=len(x)-1)\n",
    "tt = np.sqrt(len(x))*(np.mean(x) - m0 )/np.sqrt(np.var(x,ddof = 1))\n",
    "print(f'Cтатистика критерия T(x) = {rrstr(tt, 3)}', end = '\\n\\n')\n",
    "\n",
    "a = T.isf(alpha/2)\n",
    "print(f'Граница А критического множества = {rrstr(a, 3)}', end = '\\n\\n')\n",
    "print(f'Критическая область: [{1 - a}   {a}]', end = '\\n\\n')\n",
    "if abs(tt) > a:\n",
    "    print('Гипотеза отвергается', end = '\\n\\n')\n",
    "else:\n",
    "    print('Гипотеза не отвергается', end = '\\n\\n')\n",
    "    \n",
    "p = 2*min(T.cdf(tt),T.sf(tt))\n",
    "print(f'P-значение критерия = {rrstr(p, 3)}', end = '\\n\\n')\n",
    "\n",
    "nc = np.sqrt(len(x))*(m - m0)/np.sqrt(np.var(x,ddof = 1))\n",
    "T_nc = nct(df = len(x)-1, nc = nc)\n",
    "w = 1 - T_nc.cdf(a) + T_nc.cdf(-a)\n",
    "print(f'Мощность критерия W = {rrstr(w, 3)}')"
   ]
  },
  {
   "cell_type": "markdown",
   "id": "15e7f0cb",
   "metadata": {
    "id": "60ee53a1"
   },
   "source": [
    "**Проверка гипотез о значении дисперсии**"
   ]
  },
  {
   "cell_type": "markdown",
   "id": "3dcb3959",
   "metadata": {
    "id": "b0ab3b59"
   },
   "source": [
    "1. ![image.png](attachment:image.png)"
   ]
  },
  {
   "cell_type": "code",
   "execution_count": null,
   "id": "063720e4",
   "metadata": {
    "id": "3fb23079",
    "outputId": "ecc2840a-fea4-40aa-e0e1-61fb60caa72e"
   },
   "outputs": [
    {
     "name": "stdout",
     "output_type": "stream",
     "text": [
      "[ 0.185  1.269  2.034  1.356  2.498 -0.185  1.665  0.436  0.226  0.556\n",
      "  0.858  1.273 -0.107  2.228  1.736 -0.526  2.892  3.352  2.542  1.007\n",
      "  0.     2.402  0.754  2.591  1.445  2.314  1.613  2.008  1.222  3.228\n",
      "  1.353  1.664  3.338 -0.313 -0.226  2.305 -0.116  3.406  0.743  0.365\n",
      "  3.383  2.883  3.32   2.234  0.237]\n",
      "45\n"
     ]
    }
   ],
   "source": [
    "x_str = '0,185; 1,269; 2,034; 1,356; 2,498; -0,185; 1,665; 0,436; 0,226; 0,556; 0,858; 1,273; -0,107; 2,228; 1,736; -0,526; 2,892; 3,352; 2,542; 1,007; 0,0; 2,402; 0,754; 2,591; 1,445; 2,314; 1,613; 2,008; 1,222; 3,228; 1,353; 1,664; 3,338; -0,313; -0,226; 2,305; -0,116; 3,406; 0,743; 0,365; 3,383; 2,883; 3,32; 2,234; 0,237'\n",
    "x = np.array(list(map(lambda x: float(x), x_str.replace(',', '.').split('; '))))\n",
    "print(x, len(x), sep='\\n')"
   ]
  },
  {
   "cell_type": "code",
   "execution_count": null,
   "id": "b08238f4",
   "metadata": {
    "id": "e2933e11",
    "outputId": "bafbf924-bbcd-4799-ed67-3272675f0f46"
   },
   "outputs": [
    {
     "name": "stdout",
     "output_type": "stream",
     "text": [
      "Значение статистики критерия = 52,570\n",
      "\n",
      "Границы критического множества: А = 26,933 и B = 67,994\n",
      "\n",
      "P-значение критерия = 0,409\n",
      "\n",
      "Вероятность ошибки второго рода = 0,896\n"
     ]
    }
   ],
   "source": [
    "sigma = 1.13**2\n",
    "sigma1 = 1.23**2\n",
    "alpha = 0.03\n",
    "m = 1.83\n",
    "\n",
    "R = chi2(len(x))\n",
    "s2 = 1 / len(x) * sum((x - m)**2)\n",
    "krit = len(x)*s2/sigma\n",
    "print(f'Значение статистики критерия = {rrstr(krit, 3)}', end = '\\n\\n')\n",
    "\n",
    "A = min(R.ppf(1-alpha/2), R.ppf(alpha/2))\n",
    "B = max(R.ppf(1-alpha/2), R.ppf(alpha/2))\n",
    "print(f'Границы критического множества: А = {rrstr(A, 3)} и B = {rrstr(B, 3)}', end = '\\n\\n')\n",
    "\n",
    "p = 2*min(R.cdf(krit), R.sf(krit))\n",
    "print(f'P-значение критерия = {rrstr(p, 3)}', end = '\\n\\n')\n",
    "\n",
    "beta = R.cdf(B*sigma/sigma1) - R.cdf(A*sigma/sigma1)\n",
    "print(f'Вероятность ошибки второго рода = {rrstr(beta, 3)}')"
   ]
  },
  {
   "cell_type": "markdown",
   "id": "c2c9617d",
   "metadata": {
    "id": "963a240e"
   },
   "source": [
    "2. ![image.png](attachment:image.png)"
   ]
  },
  {
   "cell_type": "code",
   "execution_count": null,
   "id": "efd4d867",
   "metadata": {
    "id": "98725c32",
    "outputId": "33b8b39a-4d61-40ae-b66c-81173fcd4fa4"
   },
   "outputs": [
    {
     "name": "stdout",
     "output_type": "stream",
     "text": [
      "[ 0.889  1.514  2.846  2.811  0.84   0.945  0.02  -0.441 -0.796  3.739\n",
      "  0.688  0.777 -0.233  2.284 -0.681  1.056  0.21   1.8    0.687 -0.144\n",
      "  1.285  1.851  1.402  1.695  0.533  0.87   0.486  0.874  0.312 -0.821]\n",
      "30\n"
     ]
    }
   ],
   "source": [
    "x_str = '0,889; 1,514; 2,846; 2,811; 0,84; 0,945; 0,02; -0,441; -0,796; 3,739; 0,688; 0,777; -0,233; 2,284; -0,681; 1,056; 0,21; 1,8; 0,687; -0,144; 1,285; 1,851; 1,402; 1,695; 0,533; 0,87; 0,486; 0,874; 0,312; -0,821'\n",
    "x = np.array(list(map(lambda x: float(x), x_str.replace(',', '.').split('; '))))\n",
    "print(x, len(x), sep='\\n')"
   ]
  },
  {
   "cell_type": "code",
   "execution_count": null,
   "id": "d70923e1",
   "metadata": {
    "id": "014118c3",
    "outputId": "e7aadfac-e0b6-4d09-f409-03b109e84a16"
   },
   "outputs": [
    {
     "name": "stdout",
     "output_type": "stream",
     "text": [
      "Значение статистики критерия = 26,996\n",
      "\n",
      "Границы критического множества: А = 14,256 и B = 49,588\n",
      "\n",
      "P-значение критерия = 0,856\n",
      "\n",
      "Вероятность ошибки второго рода = 0,940\n"
     ]
    }
   ],
   "source": [
    "sigma = 1.14**2\n",
    "sigma1 = 1.24**2\n",
    "alpha = 0.02\n",
    "\n",
    "R = chi2(len(x) -1)\n",
    "s2 = 1 / (len(x) - 1) * sum((x - x.mean())**2)\n",
    "krit = (len(x) - 1)*s2/sigma\n",
    "print(f'Значение статистики критерия = {rrstr(krit, 3)}', end = '\\n\\n')\n",
    "\n",
    "A = min(R.ppf(1-alpha/2), R.ppf(alpha/2))\n",
    "B = max(R.ppf(1-alpha/2), R.ppf(alpha/2))\n",
    "print(f'Границы критического множества: А = {rrstr(A, 3)} и B = {rrstr(B, 3)}', end = '\\n\\n')\n",
    "\n",
    "p = 2*min(R.cdf(krit), R.sf(krit))\n",
    "print(f'P-значение критерия = {rrstr(p, 3)}', end = '\\n\\n')\n",
    "\n",
    "beta = R.cdf(B*sigma/sigma1) - R.cdf(A*sigma/sigma1)\n",
    "print(f'Вероятность ошибки второго рода = {rrstr(beta, 3)}')"
   ]
  },
  {
   "cell_type": "markdown",
   "id": "c37d20e3",
   "metadata": {
    "id": "60608d82"
   },
   "source": [
    "**Проверка гипотез о равенстве двух средних**"
   ]
  },
  {
   "cell_type": "markdown",
   "id": "3301bb01",
   "metadata": {
    "id": "a5b8c50b"
   },
   "source": [
    "![image-2.png](attachment:image-2.png)"
   ]
  },
  {
   "cell_type": "code",
   "execution_count": null,
   "id": "8609e1f8",
   "metadata": {
    "id": "e44dcfb9",
    "outputId": "ec66abe4-2020-4d6f-d3d4-d43d14b62e02"
   },
   "outputs": [
    {
     "name": "stdout",
     "output_type": "stream",
     "text": [
      "[3.678 5.51  4.325 3.44  2.31  4.599 4.626 3.856 4.829 4.744 4.979 4.45\n",
      " 4.555 3.471 4.816 4.896 4.949 2.365 6.089 4.712 4.037 6.414 4.1   5.978\n",
      " 3.6  ]\n",
      "25\n",
      "[4.408 2.622 3.441 2.766 4.557 4.838 5.857 6.748 5.228 7.27  6.333 5.094\n",
      " 3.159 2.193 3.544 3.601 2.277 4.229 1.945 3.479 3.093 6.238 4.554 3.687\n",
      " 6.656 1.318 5.147 2.83  3.289 5.751 6.041 2.002 4.852 5.716 3.801]\n",
      "35\n"
     ]
    }
   ],
   "source": [
    "x_str = '3,678; 5,51; 4,325; 3,44; 2,31; 4,599; 4,626; 3,856; 4,829; 4,744; 4,979; 4,45; 4,555; 3,471; 4,816; 4,896; 4,949; 2,365; 6,089; 4,712; 4,037; 6,414; 4,1; 5,978; 3,6'\n",
    "y_str = '4,408; 2,622; 3,441; 2,766; 4,557; 4,838; 5,857; 6,748; 5,228; 7,27; 6,333; 5,094; 3,159; 2,193; 3,544; 3,601; 2,277; 4,229; 1,945; 3,479; 3,093; 6,238; 4,554; 3,687; 6,656; 1,318; 5,147; 2,83; 3,289; 5,751; 6,041; 2,002; 4,852; 5,716; 3,801'\n",
    "x = np.array(list(map(lambda x: float(x), x_str.replace(',', '.').split('; '))))\n",
    "y = np.array(list(map(lambda y: float(y), y_str.replace(',', '.').split('; '))))\n",
    "print(x, len(x), y, len(y), sep='\\n')"
   ]
  },
  {
   "cell_type": "code",
   "execution_count": null,
   "id": "e6269649",
   "metadata": {
    "id": "73fc0236",
    "outputId": "2e5ea1e9-3a93-4f2f-f9c5-d8868accb25f"
   },
   "outputs": [
    {
     "name": "stdout",
     "output_type": "stream",
     "text": [
      "Cтатистика критерия Z(x) = 0,670\n",
      "\n",
      "P-значение критерия = 0,251\n",
      "\n",
      "Граница А критического множества = 1,881\n",
      "\n",
      "Гипотеза не отвергается\n",
      "\n",
      "Мощность критерия W = 0,644\n"
     ]
    }
   ],
   "source": [
    "var_x, var_y = 1.1**2, 1.3**2\n",
    "alpha = 0.03\n",
    "delta = 0.7\n",
    "\n",
    "Z = norm()\n",
    "m, n = len(x), len(y)\n",
    "\n",
    "z = (np.mean(x) - np.mean(y)) / np.sqrt( var_x/m + var_y/n )\n",
    "print(f'Cтатистика критерия Z(x) = {rrstr(z, 3)}', end = '\\n\\n')\n",
    "\n",
    "p = Z.sf(z)\n",
    "print(f'P-значение критерия = {rrstr(p, 3)}', end = '\\n\\n')\n",
    "\n",
    "a = Z.isf(alpha)\n",
    "print(f'Граница А критического множества = {rrstr(a, 3)}', end = '\\n\\n')\n",
    "\n",
    "if z > a:\n",
    "    print('Гипотеза отвергается', end = '\\n\\n')\n",
    "else:\n",
    "    print('Гипотеза не отвергается', end = '\\n\\n')\n",
    "    \n",
    "w = 1 - Z.cdf(a - delta*np.sqrt(m*n) / np.sqrt( var_x*n + var_y*m ))\n",
    "print(f'Мощность критерия W = {rrstr(w, 3)}')"
   ]
  },
  {
   "cell_type": "markdown",
   "id": "49422616",
   "metadata": {
    "id": "dbfa61a4"
   },
   "source": [
    "**Проверка гипотез о равенстве трех средних**"
   ]
  },
  {
   "cell_type": "markdown",
   "id": "baca0832",
   "metadata": {
    "id": "e02bbc93"
   },
   "source": [
    "![image.png](attachment:image.png)"
   ]
  },
  {
   "cell_type": "code",
   "execution_count": null,
   "id": "f62d7d95",
   "metadata": {
    "id": "901ac3d6",
    "outputId": "5e4cc0d2-04b4-4c14-e881-ecf39af4b38c"
   },
   "outputs": [
    {
     "name": "stdout",
     "output_type": "stream",
     "text": [
      "[ 3.956  0.338 -0.582  3.536 -0.028  0.245  0.807  1.942  1.05  -1.4\n",
      "  0.355 -3.436  3.401 -1.945 -0.751  2.025  0.125  5.603 -1.203  2.541\n",
      "  1.806 -0.903  3.156  1.488  3.752  3.876  7.092]\n",
      "27\n",
      "[ 5.108  1.014  1.325  4.539  3.473  3.436 -1.981  1.842  0.129  2.572\n",
      "  1.664  4.084  2.661  3.787  0.781 -0.367  0.916  1.859  2.81   7.322\n",
      "  1.799 -0.394  1.07   0.787  3.056 -1.798  2.052  2.276  2.457  0.466\n",
      "  1.329 -1.518  0.716]\n",
      "33\n",
      "[ 0.597  2.899 -0.875  3.775  5.487 -3.068  2.923  3.525  0.37   0.947\n",
      "  1.581  1.185  1.158 -2.122  4.666  4.491 -0.052 -1.619  3.151]\n",
      "19\n"
     ]
    }
   ],
   "source": [
    "A_str = '3,956; 0,338; -0,582; 3,536; -0,028; 0,245; 0,807; 1,942; 1,05; -1,4; 0,355; -3,436; 3,401; -1,945; -0,751; 2,025; 0,125; 5,603; -1,203; 2,541; 1,806; -0,903; 3,156; 1,488; 3,752; 3,876; 7,092'\n",
    "B_str = '5,108; 1,014; 1,325; 4,539; 3,473; 3,436; -1,981; 1,842; 0,129; 2,572; 1,664; 4,084; 2,661; 3,787; 0,781; -0,367; 0,916; 1,859; 2,81; 7,322; 1,799; -0,394; 1,07; 0,787; 3,056; -1,798; 2,052; 2,276; 2,457; 0,466; 1,329; -1,518; 0,716'\n",
    "C_str = '0,597; 2,899; -0,875; 3,775; 5,487; -3,068; 2,923; 3,525; 0,37; 0,947; 1,581; 1,185; 1,158; -2,122; 4,666; 4,491; -0,052; -1,619; 3,151'\n",
    "A = np.array(list(map(lambda A: float(A), A_str.replace(',', '.').split('; '))))\n",
    "B = np.array(list(map(lambda B: float(B), B_str.replace(',', '.').split('; '))))\n",
    "C = np.array(list(map(lambda C: float(C), C_str.replace(',', '.').split('; '))))\n",
    "print(A, len(A), B, len(B), C, len(C), sep='\\n')"
   ]
  },
  {
   "cell_type": "code",
   "execution_count": null,
   "id": "50c3a04d",
   "metadata": {
    "id": "f1496165",
    "outputId": "3422a967-5374-423d-d033-4aa9984db684"
   },
   "outputs": [
    {
     "name": "stdout",
     "output_type": "stream",
     "text": [
      "Межгрупповая дисперсия = 0,036\n",
      "\n",
      "Средняя групповая дисперсия = 4,863\n",
      "\n",
      "Значение статистики критерия = 0,281\n",
      "\n",
      "P-значение критерия = 0,756\n"
     ]
    }
   ],
   "source": [
    "alpha = 0.03\n",
    "k = 3\n",
    "\n",
    "sample = np.append(C, np.append(A, B))\n",
    "sigma_A = 1/len(A) * sum((A - A.mean())**2)\n",
    "sigma_B = 1/len(B) * sum((B - B.mean())**2)\n",
    "sigma_C = 1/len(C) * sum((C - C.mean())**2)\n",
    "\n",
    "intergroup_var = ((A.mean() - sample.mean())**2*len(A) + (B.mean() - sample.mean())**2*len(B) + (C.mean() - sample.mean())**2*len(C))/len(sample)\n",
    "print(f'Межгрупповая дисперсия = {rrstr(intergroup_var, 3)}', end = '\\n\\n')\n",
    "\n",
    "average_group_var = 1/len(sample)*sum([sum((A - A.mean())**2), sum((B - B.mean())**2), sum((C - C.mean())**2)])\n",
    "print(f'Средняя групповая дисперсия = {rrstr(average_group_var, 3)}', end = '\\n\\n')\n",
    "\n",
    "MSTR = ((A.mean() - sample.mean())**2*len(A) + (B.mean() - sample.mean())**2*len(B) + (C.mean() - sample.mean())**2*len(C))/(k - 1)\n",
    "MSE = sum([sum((A - A.mean())**2), sum((B - B.mean())**2), sum((C - C.mean())**2)])/(len(sample) - k)\n",
    "F = MSTR / MSE\n",
    "print(f'Значение статистики критерия = {rrstr(F, 3)}', end = '\\n\\n')\n",
    "\n",
    "p = f.sf(F, k - 1, len(sample) - k)\n",
    "print(f'P-значение критерия = {rrstr(p, 3)}')"
   ]
  },
  {
   "cell_type": "markdown",
   "id": "21711672",
   "metadata": {
    "id": "b3cb4e30"
   },
   "source": [
    "**Доверительный интервал для коэффициента корреляции**"
   ]
  },
  {
   "cell_type": "markdown",
   "id": "6dca8370",
   "metadata": {
    "id": "242c5be9"
   },
   "source": [
    "![image.png](attachment:image.png)"
   ]
  },
  {
   "cell_type": "code",
   "execution_count": null,
   "id": "8e4cca0a",
   "metadata": {
    "id": "a32be8b7",
    "outputId": "d5ba7c30-4193-4527-cd2b-e7335e52ac5c"
   },
   "outputs": [
    {
     "name": "stdout",
     "output_type": "stream",
     "text": [
      "[-0.616 -0.238  0.173 -0.255  0.531  0.718 -0.161  0.371 -1.014 -0.413\n",
      " -1.571  0.485  0.486  0.688 -0.944  0.155  0.003  0.111  0.752  0.783\n",
      " -0.102 -0.74  -2.097  1.349 -0.044 -0.617 -0.782 -0.873 -0.995 -1.256\n",
      " -0.596]\n",
      "31\n",
      "[-1.34  -0.25   0.101 -0.626 -0.088  0.539 -0.451  0.233 -1.186 -0.423\n",
      " -1.329  0.231  0.209  0.638 -0.274 -0.491 -0.319  0.294  0.895  1.164\n",
      " -0.57  -1.078 -1.526  1.491  0.182 -0.31  -1.001 -0.969 -0.918 -0.904\n",
      " -0.595]\n",
      "31\n"
     ]
    }
   ],
   "source": [
    "x_str = '-0,616; -0,238; 0,173; -0,255; 0,531; 0,718; -0,161; 0,371; -1,014; -0,413; -1,571; 0,485; 0,486; 0,688; -0,944; 0,155; 0,003; 0,111; 0,752; 0,783; -0,102; -0,74; -2,097; 1,349; -0,044; -0,617; -0,782; -0,873; -0,995; -1,256; -0,596'\n",
    "y_str = '-1,34; -0,25; 0,101; -0,626; -0,088; 0,539; -0,451; 0,233; -1,186; -0,423; -1,329; 0,231; 0,209; 0,638; -0,274; -0,491; -0,319; 0,294; 0,895; 1,164; -0,57; -1,078; -1,526; 1,491; 0,182; -0,31; -1,001; -0,969; -0,918; -0,904; -0,595'\n",
    "x = np.array(list(map(lambda x: float(x), x_str.replace(',', '.').split('; '))))\n",
    "y = np.array(list(map(lambda y: float(y), y_str.replace(',', '.').split('; '))))\n",
    "print(x, len(x), y, len(y), sep='\\n')"
   ]
  },
  {
   "cell_type": "code",
   "execution_count": null,
   "id": "24e17cba",
   "metadata": {
    "id": "337b01cc",
    "outputId": "bc068178-6ea3-405c-df62-b4bab095f59f"
   },
   "outputs": [
    {
     "name": "stdout",
     "output_type": "stream",
     "text": [
      "Выборочный коэффициент корреляции = 0,902\n",
      "\n",
      "Верхняя граница доверительного интервала = 0,949\n"
     ]
    }
   ],
   "source": [
    "alpha = 0.93\n",
    "\n",
    "r = np.corrcoef(x, y)[0][1]\n",
    "print(f'Выборочный коэффициент корреляции = {rrstr(r, 3)}', end = '\\n\\n')\n",
    "\n",
    "z = 0.5*np.log((1+r)/(1-r))\n",
    "SE = 1/np.sqrt(len(x) - 3)\n",
    "N = norm(0,1)\n",
    "z_alpha = N.ppf(alpha/2 + 0.5)\n",
    "z2 = z + z_alpha*SE\n",
    "teta2 = (e**(2*z2) - 1)/(e**(2*z2) + 1)\n",
    "print(f'Верхняя граница доверительного интервала = {rrstr(teta2, 3)}')"
   ]
  },
  {
   "cell_type": "markdown",
   "id": "c5b99832",
   "metadata": {
    "id": "81c6b729"
   },
   "source": [
    "**Дополнительная задача на ММП**"
   ]
  },
  {
   "cell_type": "markdown",
   "id": "693a986f",
   "metadata": {
    "id": "a6f75879"
   },
   "source": [
    "![image.png](attachment:image.png)"
   ]
  },
  {
   "cell_type": "markdown",
   "id": "f793f750",
   "metadata": {
    "id": "8bf5ac88"
   },
   "source": [
    "Функция плотности:\\\n",
    "$f(x,y) = \\frac{1}{2\\pi \\sigma_x \\sigma_y \\sqrt{1- \\rho^2}} e^{-\\frac{1}{2(1-\\rho^2)}[\\frac{(x - \\mu_x)^2}{\\sigma_x^2} - \\rho \\frac{2(x-\\mu_x)(y-\\mu_y)}{\\sigma_x\\sigma_y} + \\frac{(y - \\mu_y)^2}{\\sigma_y^2}]}$\\\n",
    "$\\mu_x = a$\\\n",
    "$\\mu_y = b$\\\n",
    "$\\sigma_x = \\sigma_y$\\\n",
    "Тогда функция плотности имеет вид:\\\n",
    "$f(x,y) = \\frac{1}{2\\pi \\sigma^2 \\sqrt{1- \\rho^2}} e^{-\\frac{1}{2(1-\\rho^2)}[\\frac{((x - a)^2 + (y - b)^2 - 2\\rho (x - a)(y - b))}{\\sigma^2}]}$\\\n",
    "Функция правдоподобия:\\\n",
    "$L((X,Y),\\sigma^2,\\rho) = \\prod_{i=1}^{n} f(x, y) = \\frac{1}{(2\\pi \\sigma^2 \\sqrt{1- \\rho^2})^n} e^{-\\frac{1}{2(1-\\rho^2)}[\\frac{\\sum_{i=1}^{n}((x - a)^2 + (y - b)^2 - 2\\rho (x - a)(y - b))}{\\sigma^2}]}$\\\n",
    "\\\n",
    "$ln(L((X,Y),\\sigma^2,\\rho)) = -n(\\ln{2\\pi} + \\ln{\\sigma^2} + \\frac{1}{2}\\ln{(1 - \\rho^2)}) - \\frac{1}{2(1-\\rho^2)\\sigma^2}\\sum_{i=1}^{n}((x - a)^2 + (y -b)^2 - 2\\rho (x - a)(y - b)) = $\\\n",
    "$= -n(\\ln(2\\pi) + \\frac{1}{2}\\ln(4(\\frac{-1}{2(1-\\rho^2)\\sigma^2})^2 - (\\frac{\\rho}{(1-\\rho^2)\\sigma^2})^2) + \\frac{\\rho}{(1-\\rho^2)\\sigma^2}\\sum_{i=1}^{n}((x - a)(y - b)) - \\frac{1}{2(1-\\rho^2)\\sigma^2}\\sum_{i=1}^{n}((x - a)^2 + (y- b)^2)$\\\n",
    "Замена:\\\n",
    "$-n(\\ln(2\\pi) + \\frac{1}{2}\\ln(4(q_1)^2 - (q_2)^2) + q_2\\sum_{i=1}^{n}((x - a)(y - b)) - q_1\\sum_{i=1}^{n}((x - a)^2 + (y - b)^2)$"
   ]
  },
  {
   "cell_type": "markdown",
   "id": "eed1bc7a",
   "metadata": {
    "id": "2926a787"
   },
   "source": [
    "Решим систему уравнений:\\\n",
    "$\\frac{\\delta}{\\delta q_1} = -\\frac{4nq_1}{4q_1^2-q_2^2} -\\sum_{i=1}^{n}((x - a)^2 + (y - b)^2) = 0$\\\n",
    "$\\frac{\\delta}{\\delta q_2} = \\sum_{i=1}^{n}((x - a)(y - b)) -\\frac{nq_2}{4q_1^2-q_2^2}= 0$"
   ]
  },
  {
   "cell_type": "markdown",
   "id": "705ea87c",
   "metadata": {
    "id": "63cc6ca1"
   },
   "source": [
    "$\\frac{1}{n}\\sum_{i=1}^{n}((x - a)^2 + (y - b)^2) = -\\frac{4q_1}{4q_1^2-q_2^2} = -\\frac{4(\\frac{-1}{2(1-\\rho^2)\\sigma^2})}{4(\\frac{-1}{2(1-\\rho^2)\\sigma^2})^2-(\\frac{\\rho}{(1-\\rho^2)\\sigma^2})^2} = 2\\sigma^2$\\\n",
    "$\\frac{1}{n}\\sum_{i=1}^{n}((x - a)(y - b)) = \\frac{q_2}{4q_1^2-q_2^2} = \\frac{\\frac{\\rho}{(1-\\rho^2)\\sigma^2}}{4(\\frac{-1}{2(1-\\rho^2)\\sigma^2})^2-(\\frac{\\rho}{(1-\\rho^2)\\sigma^2})^2} =\\frac{1}{2}\\rho\\sigma^2$"
   ]
  },
  {
   "cell_type": "markdown",
   "id": "6e5bc891",
   "metadata": {
    "id": "554e8770"
   },
   "source": [
    "$\\sigma^2 = \\frac{1}{2n}\\sum_{i=1}^{n}((x - a)^2 + (y - b)^2)$\\\n",
    "\\\n",
    "$\\rho = \\frac{2\\sum_{i=1}^{n}((x - a)(y - b))}{\\sum_{i=1}^{n}((x - a)^2 + (y - b)^2)}$"
   ]
  },
  {
   "cell_type": "code",
   "execution_count": null,
   "id": "9065b142",
   "metadata": {
    "id": "41660daa"
   },
   "outputs": [],
   "source": []
  }
 ],
 "metadata": {
  "colab": {
   "provenance": []
  },
  "kernelspec": {
   "display_name": "Python 3 (ipykernel)",
   "language": "python",
   "name": "python3"
  },
  "language_info": {
   "codemirror_mode": {
    "name": "ipython",
    "version": 3
   },
   "file_extension": ".py",
   "mimetype": "text/x-python",
   "name": "python",
   "nbconvert_exporter": "python",
   "pygments_lexer": "ipython3",
   "version": "3.10.9"
  }
 },
 "nbformat": 4,
 "nbformat_minor": 5
}
